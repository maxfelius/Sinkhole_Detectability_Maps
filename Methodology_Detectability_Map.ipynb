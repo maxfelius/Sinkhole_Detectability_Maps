{
 "cells": [
  {
   "cell_type": "markdown",
   "metadata": {},
   "source": [
    "# Detectability Map\n",
    "@author: Max Felius\n",
    "\n",
    "Detectability map using a 1x1 km subset of track 88 Sentinel-1 data.\n",
    "\n",
    "The goal is to test the subset on every position to determine if it is possible to detect a particular sinkhole (retrieved from digitised sinkhole analysis) if it would happen at that particular position. "
   ]
  },
  {
   "cell_type": "code",
   "execution_count": 1,
   "metadata": {},
   "outputs": [],
   "source": [
    "#imports\n",
    "import numpy as np\n",
    "import pandas as pd\n",
    "import sys, os, time\n",
    "import matplotlib.pyplot as plt\n",
    "from tqdm import tqdm\n",
    "\n",
    "#import self created package\n",
    "# from Detectability_Map.Detectability_Map_Creator import detectability_map\n",
    "from Detectability_Map.read_sentinel1_csv_data import dataset\n",
    "from Detectability_Map.rijksdriehoek import Rijksdriehoek"
   ]
  },
  {
   "cell_type": "code",
   "execution_count": 2,
   "metadata": {},
   "outputs": [
    {
     "name": "stdout",
     "output_type": "stream",
     "text": [
      "Starting to read the data: Subsets/subset_r400_lon6.06_lat50.87.csv.\n",
      "Finished Loading the dataset in 0.07316470146179199 seconds...\n"
     ]
    }
   ],
   "source": [
    "folder = 'Subsets'\n",
    "filename = 'subset_r400_lon6.06_lat50.87.csv'\n",
    "dataset_filename = os.path.join(folder,filename)\n",
    "\n",
    "dataset_obj = dataset(dataset_filename)\n",
    "\n",
    "extend_rd = dataset_obj.extend_rd #[min x, max x, min y, max y]\n",
    "extend_wgs = dataset_obj.extend_wgs #[min lon, max lon, min lat, max lat]"
   ]
  },
  {
   "cell_type": "code",
   "execution_count": 3,
   "metadata": {},
   "outputs": [],
   "source": [
    "#defining the different influence functions\n",
    "def zg(R,r,itype='gaus'):\n",
    "    # Automatically uses the Gaussian Influence Function unless specified differently\n",
    "    if itype == 'gaus':\n",
    "        return -zg_gaus(R,r) \n",
    "    elif itype == 'bals':\n",
    "        return -zg_bals(R,r)    \n",
    "    elif itype == 'beyer':\n",
    "        return -zg_beyer(R,r)    \n",
    "    else:\n",
    "        print(f'Unknown itype: {itype}.')\n",
    "\n",
    "def zg_gaus(R,r):\n",
    "    return (1/(R*R))*np.exp(-np.pi*(r**2/R**2))\n",
    "\n",
    "def zg_bals(H,r):\n",
    "    r = np.sqrt((x-x0)**2 + (y-y0)**2)\n",
    "    zone = np.arctan(r/H)\n",
    "    return np.cos(zone)**2\n",
    "\n",
    "def zg_beyer(R,r):\n",
    "#     r = np.sqrt((x-x0)**2 + (y-y0)**2)\\n\",\n",
    "    kz = ((3)/(np.pi*R**2))*(1-(r/R)**2)**2\n",
    "    kz[r>R] = 0\n",
    "    return kz"
   ]
  },
  {
   "cell_type": "code",
   "execution_count": 4,
   "metadata": {},
   "outputs": [],
   "source": [
    "def check_subset(subset,R,x0,y0):\n",
    "    '''\n",
    "    Checks if a subset has a solvable design matrix\n",
    "\n",
    "    Input:\n",
    "    :type subset: pandas dataframe\n",
    "    :type S: int\n",
    "    :type R: int\n",
    "    :type x0: int\n",
    "    :type y0: int\n",
    "\n",
    "    Output\n",
    "    :rtype: boolean, float\n",
    "    '''\n",
    "    #sinkhole parameters\n",
    "    v = 50\n",
    "#     t = [0,12,24,36]\n",
    "    t = 12\n",
    "    \n",
    "    itype = 'gaus'\n",
    "    \n",
    "    # print('Computing the radius.')\n",
    "    r = np.sqrt((subset['pnt_rdx'].values-x0)**2 + (subset['pnt_rdy'].values-y0)**2)\n",
    "\n",
    "    if len(r)==0:\n",
    "        return 0, 0.0\n",
    "    else:\n",
    "        #defining the jacobian matrix for nonlinear least squares\n",
    "        A1 = t*zg(R,r,itype)\n",
    "        A2 = ((2*R**2 + 2*np.pi*r**2)/(R**3))*(v*t)*zg(R,r,itype)\n",
    "        J = np.array([A1,A2]).T\n",
    "        cond_number = np.linalg.cond(J)\n",
    "\n",
    "    if cond_number > 1/sys.float_info.epsilon:\n",
    "        return 0, cond_number\n",
    "    else:\n",
    "        return 1, cond_number"
   ]
  },
  {
   "cell_type": "code",
   "execution_count": 13,
   "metadata": {},
   "outputs": [],
   "source": [
    "def make_map(R_list,x_eval,y_eval,nx,ny,dataset_obj):\n",
    "    '''\n",
    "    Method to create the detectability map. Input are the evaluation coordinates and the radius of infuence.\n",
    "\n",
    "    Input:_pos\n",
    "    :type R_list: list[int]\n",
    "    :type S: int\n",
    "    :type x_eval: list[float], rd\n",
    "    :type y_eval: list[float], rd\n",
    "    :type nx: int\n",
    "    :type ny: int\n",
    "    :type dataset_obj: object(dataset)\n",
    "\n",
    "    Output:\n",
    "    :rtype pandas.DataFrame\n",
    "    '''\n",
    "    header_outputframe = ['pnt_lon','pnt_lat','pnt_rdx','pnt_rdy','geometry (wgs)','geometry (rd)','sum']\n",
    "    \n",
    "    #implement R columns in the header\n",
    "    for item in R_list:\n",
    "        header_outputframe.append(f'R_{item}')\n",
    "        header_outputframe.append(f'Cond_R_{item}')\n",
    "    \n",
    "    # building the numbers for in the dataframe\n",
    "    lon_eval_wgs, lat_eval_wgs = Rijksdriehoek(x_eval, y_eval).to_wgs()\n",
    "    fill_data = np.zeros((len(lon_eval_wgs),len(header_outputframe)-4))\n",
    "    coordinate_data = np.array([lon_eval_wgs,lat_eval_wgs,x_eval,y_eval]).T\n",
    "    coordinate_data = np.concatenate((coordinate_data,fill_data),axis=1)\n",
    "    \n",
    "    # Building dataframe\n",
    "    df = pd.DataFrame(coordinate_data,columns=header_outputframe)\n",
    "    \n",
    "    for idx,R in enumerate(R_list):\n",
    "        print(f'Set {idx+1}/{len(R_list)}.')\n",
    "        for i in tqdm(range(len(x_eval)),desc='Making the Map...'):\n",
    "            #select center position\n",
    "            x_pos = x_eval[i]\n",
    "            y_pos = y_eval[i]\n",
    "\n",
    "            #create the subset\n",
    "            subset = dataset_obj.create_spatial_subset([x_pos,y_pos],R)\n",
    "\n",
    "            result, cond = check_subset(subset,R,x_pos,y_pos)\n",
    "\n",
    "            #filling the dataframe\n",
    "            #create a polygon of the entry\n",
    "            lbrd = Rijksdriehoek(x_pos-min(R_list)/2,y_pos-min(R_list)/2)\n",
    "            rbrd = Rijksdriehoek(x_pos+min(R_list)/2,y_pos-min(R_list)/2)\n",
    "            rtrd = Rijksdriehoek(x_pos+min(R_list)/2,y_pos+min(R_list)/2)\n",
    "            ltrd = Rijksdriehoek(x_pos-min(R_list)/2,y_pos+min(R_list)/2)\n",
    "\n",
    "            leftbot = lbrd.to_wgs()\n",
    "            rightbot = rbrd.to_wgs()\n",
    "            righttop = rtrd.to_wgs()\n",
    "            lefttop = ltrd.to_wgs()\n",
    "\n",
    "            df['geometry (wgs)'].iloc[i] = f'POLYGON (({leftbot[1]} {leftbot[0]},{rightbot[1]} {rightbot[0]},{righttop[1]} {righttop[0]},{lefttop[1]} {lefttop[0]}))'\n",
    "            df['geometry (rd)'].iloc[i] = f'POLYGON (({lbrd.rd_x} {lbrd.rd_y},{rbrd.rd_x} {rbrd.rd_y},{rtrd.rd_x} {rtrd.rd_y},{ltrd.rd_x} {ltrd.rd_y}))'\n",
    "\n",
    "            df[f'R_{R}'].iloc[i] = result\n",
    "            df[f'Cond_R_{R}'].iloc[i] = cond\n",
    "            \n",
    "            if result == 1:\n",
    "                df['sum'].iloc[i] += 1\n",
    "        \n",
    "    return df"
   ]
  },
  {
   "cell_type": "code",
   "execution_count": 16,
   "metadata": {},
   "outputs": [
    {
     "name": "stderr",
     "output_type": "stream",
     "text": [
      "Making the Map...:   0%|          | 0/66010 [00:00<?, ?it/s]/Library/Frameworks/Python.framework/Versions/3.8/lib/python3.8/site-packages/pandas/core/indexing.py:670: SettingWithCopyWarning: \n",
      "A value is trying to be set on a copy of a slice from a DataFrame\n",
      "\n",
      "See the caveats in the documentation: https://pandas.pydata.org/pandas-docs/stable/user_guide/indexing.html#returning-a-view-versus-a-copy\n",
      "  iloc._setitem_with_indexer(indexer, value)\n",
      "Making the Map...:   0%|          | 43/66010 [00:00<07:03, 155.74it/s]"
     ]
    },
    {
     "name": "stdout",
     "output_type": "stream",
     "text": [
      "Set 1/8.\n"
     ]
    },
    {
     "name": "stderr",
     "output_type": "stream",
     "text": [
      "Making the Map...: 100%|██████████| 66010/66010 [05:21<00:00, 205.11it/s]\n",
      "Making the Map...:   0%|          | 18/66010 [00:00<06:36, 166.64it/s]"
     ]
    },
    {
     "name": "stdout",
     "output_type": "stream",
     "text": [
      "Set 2/8.\n"
     ]
    },
    {
     "name": "stderr",
     "output_type": "stream",
     "text": [
      "Making the Map...: 100%|██████████| 66010/66010 [06:06<00:00, 180.34it/s]\n",
      "Making the Map...:   0%|          | 34/66010 [00:00<06:20, 173.22it/s]"
     ]
    },
    {
     "name": "stdout",
     "output_type": "stream",
     "text": [
      "Set 3/8.\n"
     ]
    },
    {
     "name": "stderr",
     "output_type": "stream",
     "text": [
      "Making the Map...: 100%|██████████| 66010/66010 [05:53<00:00, 186.95it/s]\n",
      "Making the Map...:   0%|          | 34/66010 [00:00<06:21, 172.74it/s]"
     ]
    },
    {
     "name": "stdout",
     "output_type": "stream",
     "text": [
      "Set 4/8.\n"
     ]
    },
    {
     "name": "stderr",
     "output_type": "stream",
     "text": [
      "Making the Map...: 100%|██████████| 66010/66010 [05:52<00:00, 187.53it/s]\n",
      "Making the Map...:   0%|          | 32/66010 [00:00<07:11, 152.98it/s]"
     ]
    },
    {
     "name": "stdout",
     "output_type": "stream",
     "text": [
      "Set 5/8.\n"
     ]
    },
    {
     "name": "stderr",
     "output_type": "stream",
     "text": [
      "Making the Map...: 100%|██████████| 66010/66010 [05:53<00:00, 186.59it/s]\n",
      "Making the Map...:   0%|          | 36/66010 [00:00<06:34, 167.44it/s]"
     ]
    },
    {
     "name": "stdout",
     "output_type": "stream",
     "text": [
      "Set 6/8.\n"
     ]
    },
    {
     "name": "stderr",
     "output_type": "stream",
     "text": [
      "Making the Map...: 100%|██████████| 66010/66010 [06:03<00:00, 181.47it/s]\n",
      "Making the Map...:   0%|          | 15/66010 [00:00<07:26, 147.84it/s]"
     ]
    },
    {
     "name": "stdout",
     "output_type": "stream",
     "text": [
      "Set 7/8.\n"
     ]
    },
    {
     "name": "stderr",
     "output_type": "stream",
     "text": [
      "Making the Map...: 100%|██████████| 66010/66010 [06:03<00:00, 181.72it/s]\n",
      "Making the Map...:   0%|          | 18/66010 [00:00<06:09, 178.50it/s]"
     ]
    },
    {
     "name": "stdout",
     "output_type": "stream",
     "text": [
      "Set 8/8.\n"
     ]
    },
    {
     "name": "stderr",
     "output_type": "stream",
     "text": [
      "Making the Map...: 100%|██████████| 66010/66010 [07:53<00:00, 139.48it/s]\n"
     ]
    }
   ],
   "source": [
    "# #parameters\n",
    "# n = 100\n",
    "# w = 1\n",
    "# M = 1\n",
    "# H = 10\n",
    "# zone_angle = np.deg2rad(35)\n",
    "# w_c = H/np.cos(zone_angle)\n",
    "\n",
    "# S = (2*M*w)/(w+w_c)\n",
    "# R = 10 #[m]\n",
    "\n",
    "R_list = [10,20,30,40,50,60,70,80]\n",
    "\n",
    "coordinates = extend_rd\n",
    "xmin = coordinates[0]\n",
    "xmax = coordinates[1]\n",
    "\n",
    "x_range = np.arange(xmin,xmax,min(R_list)/2)\n",
    "\n",
    "ymin = coordinates[2]\n",
    "ymax = coordinates[3]\n",
    "\n",
    "y_range = np.arange(ymin,ymax,min(R_list)/2)\n",
    "\n",
    "xv,yv = np.meshgrid(x_range,y_range)\n",
    "\n",
    "x_eval = xv.ravel()\n",
    "y_eval = yv.ravel()\n",
    "\n",
    "\n",
    "df = make_map(R_list,x_eval,y_eval,len(x_range),len(y_range),dataset_obj)"
   ]
  },
  {
   "cell_type": "code",
   "execution_count": 17,
   "metadata": {},
   "outputs": [],
   "source": [
    "df.to_csv('test1.csv')"
   ]
  },
  {
   "cell_type": "code",
   "execution_count": 15,
   "metadata": {},
   "outputs": [
    {
     "data": {
      "text/html": [
       "<div>\n",
       "<style scoped>\n",
       "    .dataframe tbody tr th:only-of-type {\n",
       "        vertical-align: middle;\n",
       "    }\n",
       "\n",
       "    .dataframe tbody tr th {\n",
       "        vertical-align: top;\n",
       "    }\n",
       "\n",
       "    .dataframe thead th {\n",
       "        text-align: right;\n",
       "    }\n",
       "</style>\n",
       "<table border=\"1\" class=\"dataframe\">\n",
       "  <thead>\n",
       "    <tr style=\"text-align: right;\">\n",
       "      <th></th>\n",
       "      <th>pnt_lon</th>\n",
       "      <th>pnt_lat</th>\n",
       "      <th>pnt_rdx</th>\n",
       "      <th>pnt_rdy</th>\n",
       "      <th>geometry (wgs)</th>\n",
       "      <th>geometry (rd)</th>\n",
       "      <th>sum</th>\n",
       "      <th>R_30</th>\n",
       "      <th>Cond_R_30</th>\n",
       "    </tr>\n",
       "  </thead>\n",
       "  <tbody>\n",
       "    <tr>\n",
       "      <th>0</th>\n",
       "      <td>50.861210</td>\n",
       "      <td>6.051469</td>\n",
       "      <td>201770.36798</td>\n",
       "      <td>319255.161639</td>\n",
       "      <td>POLYGON ((6.051254238253494 50.861076039414655...</td>\n",
       "      <td>POLYGON ((201755.36798023578 319240.1616393676...</td>\n",
       "      <td>1.0</td>\n",
       "      <td>1.0</td>\n",
       "      <td>1.000000</td>\n",
       "    </tr>\n",
       "    <tr>\n",
       "      <th>1</th>\n",
       "      <td>50.861208</td>\n",
       "      <td>6.051682</td>\n",
       "      <td>201785.36798</td>\n",
       "      <td>319255.161639</td>\n",
       "      <td>POLYGON ((6.051467265271871 50.86107481574402,...</td>\n",
       "      <td>POLYGON ((201770.36798023578 319240.1616393676...</td>\n",
       "      <td>1.0</td>\n",
       "      <td>1.0</td>\n",
       "      <td>96.668101</td>\n",
       "    </tr>\n",
       "    <tr>\n",
       "      <th>2</th>\n",
       "      <td>50.861207</td>\n",
       "      <td>6.051895</td>\n",
       "      <td>201800.36798</td>\n",
       "      <td>319255.161639</td>\n",
       "      <td>POLYGON ((6.051680292277208 50.861073591681,6....</td>\n",
       "      <td>POLYGON ((201785.36798023578 319240.1616393676...</td>\n",
       "      <td>0.0</td>\n",
       "      <td>0.0</td>\n",
       "      <td>0.000000</td>\n",
       "    </tr>\n",
       "    <tr>\n",
       "      <th>3</th>\n",
       "      <td>50.861206</td>\n",
       "      <td>6.052108</td>\n",
       "      <td>201815.36798</td>\n",
       "      <td>319255.161639</td>\n",
       "      <td>POLYGON ((6.051893319269499 50.861072367225624...</td>\n",
       "      <td>POLYGON ((201800.36798023578 319240.1616393676...</td>\n",
       "      <td>0.0</td>\n",
       "      <td>0.0</td>\n",
       "      <td>0.000000</td>\n",
       "    </tr>\n",
       "    <tr>\n",
       "      <th>4</th>\n",
       "      <td>50.861205</td>\n",
       "      <td>6.052321</td>\n",
       "      <td>201830.36798</td>\n",
       "      <td>319255.161639</td>\n",
       "      <td>POLYGON ((6.052106346248739 50.8610711423779,6...</td>\n",
       "      <td>POLYGON ((201815.36798023578 319240.1616393676...</td>\n",
       "      <td>0.0</td>\n",
       "      <td>0.0</td>\n",
       "      <td>0.000000</td>\n",
       "    </tr>\n",
       "    <tr>\n",
       "      <th>...</th>\n",
       "      <td>...</td>\n",
       "      <td>...</td>\n",
       "      <td>...</td>\n",
       "      <td>...</td>\n",
       "      <td>...</td>\n",
       "      <td>...</td>\n",
       "      <td>...</td>\n",
       "      <td>...</td>\n",
       "      <td>...</td>\n",
       "    </tr>\n",
       "    <tr>\n",
       "      <th>7447</th>\n",
       "      <td>50.875557</td>\n",
       "      <td>6.065314</td>\n",
       "      <td>202730.36798</td>\n",
       "      <td>320860.161639</td>\n",
       "      <td>POLYGON ((6.065099106068937 50.875423105981056...</td>\n",
       "      <td>POLYGON ((202715.36798023578 320845.1616393676...</td>\n",
       "      <td>1.0</td>\n",
       "      <td>1.0</td>\n",
       "      <td>17.394697</td>\n",
       "    </tr>\n",
       "    <tr>\n",
       "      <th>7448</th>\n",
       "      <td>50.875555</td>\n",
       "      <td>6.065527</td>\n",
       "      <td>202745.36798</td>\n",
       "      <td>320860.161639</td>\n",
       "      <td>POLYGON ((6.065312198596273 50.87542185668645,...</td>\n",
       "      <td>POLYGON ((202730.36798023578 320845.1616393676...</td>\n",
       "      <td>1.0</td>\n",
       "      <td>1.0</td>\n",
       "      <td>17.269553</td>\n",
       "    </tr>\n",
       "    <tr>\n",
       "      <th>7449</th>\n",
       "      <td>50.875554</td>\n",
       "      <td>6.065740</td>\n",
       "      <td>202760.36798</td>\n",
       "      <td>320860.161639</td>\n",
       "      <td>POLYGON ((6.065525291110288 50.875420606999334...</td>\n",
       "      <td>POLYGON ((202745.36798023578 320845.1616393676...</td>\n",
       "      <td>1.0</td>\n",
       "      <td>1.0</td>\n",
       "      <td>16.579560</td>\n",
       "    </tr>\n",
       "    <tr>\n",
       "      <th>7450</th>\n",
       "      <td>50.875553</td>\n",
       "      <td>6.065953</td>\n",
       "      <td>202775.36798</td>\n",
       "      <td>320860.161639</td>\n",
       "      <td>POLYGON ((6.0657383836109755 50.87541935691969...</td>\n",
       "      <td>POLYGON ((202760.36798023578 320845.1616393676...</td>\n",
       "      <td>1.0</td>\n",
       "      <td>1.0</td>\n",
       "      <td>27.166108</td>\n",
       "    </tr>\n",
       "    <tr>\n",
       "      <th>7451</th>\n",
       "      <td>50.875552</td>\n",
       "      <td>6.066167</td>\n",
       "      <td>202790.36798</td>\n",
       "      <td>320860.161639</td>\n",
       "      <td>POLYGON ((6.065951476098335 50.875418106447526...</td>\n",
       "      <td>POLYGON ((202775.36798023578 320845.1616393676...</td>\n",
       "      <td>1.0</td>\n",
       "      <td>1.0</td>\n",
       "      <td>55.058524</td>\n",
       "    </tr>\n",
       "  </tbody>\n",
       "</table>\n",
       "<p>7452 rows × 9 columns</p>\n",
       "</div>"
      ],
      "text/plain": [
       "        pnt_lon   pnt_lat       pnt_rdx        pnt_rdy  \\\n",
       "0     50.861210  6.051469  201770.36798  319255.161639   \n",
       "1     50.861208  6.051682  201785.36798  319255.161639   \n",
       "2     50.861207  6.051895  201800.36798  319255.161639   \n",
       "3     50.861206  6.052108  201815.36798  319255.161639   \n",
       "4     50.861205  6.052321  201830.36798  319255.161639   \n",
       "...         ...       ...           ...            ...   \n",
       "7447  50.875557  6.065314  202730.36798  320860.161639   \n",
       "7448  50.875555  6.065527  202745.36798  320860.161639   \n",
       "7449  50.875554  6.065740  202760.36798  320860.161639   \n",
       "7450  50.875553  6.065953  202775.36798  320860.161639   \n",
       "7451  50.875552  6.066167  202790.36798  320860.161639   \n",
       "\n",
       "                                         geometry (wgs)  \\\n",
       "0     POLYGON ((6.051254238253494 50.861076039414655...   \n",
       "1     POLYGON ((6.051467265271871 50.86107481574402,...   \n",
       "2     POLYGON ((6.051680292277208 50.861073591681,6....   \n",
       "3     POLYGON ((6.051893319269499 50.861072367225624...   \n",
       "4     POLYGON ((6.052106346248739 50.8610711423779,6...   \n",
       "...                                                 ...   \n",
       "7447  POLYGON ((6.065099106068937 50.875423105981056...   \n",
       "7448  POLYGON ((6.065312198596273 50.87542185668645,...   \n",
       "7449  POLYGON ((6.065525291110288 50.875420606999334...   \n",
       "7450  POLYGON ((6.0657383836109755 50.87541935691969...   \n",
       "7451  POLYGON ((6.065951476098335 50.875418106447526...   \n",
       "\n",
       "                                          geometry (rd)  sum  R_30  Cond_R_30  \n",
       "0     POLYGON ((201755.36798023578 319240.1616393676...  1.0   1.0   1.000000  \n",
       "1     POLYGON ((201770.36798023578 319240.1616393676...  1.0   1.0  96.668101  \n",
       "2     POLYGON ((201785.36798023578 319240.1616393676...  0.0   0.0   0.000000  \n",
       "3     POLYGON ((201800.36798023578 319240.1616393676...  0.0   0.0   0.000000  \n",
       "4     POLYGON ((201815.36798023578 319240.1616393676...  0.0   0.0   0.000000  \n",
       "...                                                 ...  ...   ...        ...  \n",
       "7447  POLYGON ((202715.36798023578 320845.1616393676...  1.0   1.0  17.394697  \n",
       "7448  POLYGON ((202730.36798023578 320845.1616393676...  1.0   1.0  17.269553  \n",
       "7449  POLYGON ((202745.36798023578 320845.1616393676...  1.0   1.0  16.579560  \n",
       "7450  POLYGON ((202760.36798023578 320845.1616393676...  1.0   1.0  27.166108  \n",
       "7451  POLYGON ((202775.36798023578 320845.1616393676...  1.0   1.0  55.058524  \n",
       "\n",
       "[7452 rows x 9 columns]"
      ]
     },
     "execution_count": 15,
     "metadata": {},
     "output_type": "execute_result"
    }
   ],
   "source": [
    "df"
   ]
  },
  {
   "cell_type": "code",
   "execution_count": null,
   "metadata": {},
   "outputs": [],
   "source": []
  },
  {
   "cell_type": "code",
   "execution_count": null,
   "metadata": {},
   "outputs": [],
   "source": []
  },
  {
   "cell_type": "code",
   "execution_count": null,
   "metadata": {
    "scrolled": true
   },
   "outputs": [],
   "source": []
  },
  {
   "cell_type": "code",
   "execution_count": null,
   "metadata": {},
   "outputs": [],
   "source": []
  },
  {
   "cell_type": "code",
   "execution_count": null,
   "metadata": {},
   "outputs": [],
   "source": []
  }
 ],
 "metadata": {
  "kernelspec": {
   "display_name": "Python 3",
   "language": "python",
   "name": "python3"
  },
  "language_info": {
   "codemirror_mode": {
    "name": "ipython",
    "version": 3
   },
   "file_extension": ".py",
   "mimetype": "text/x-python",
   "name": "python",
   "nbconvert_exporter": "python",
   "pygments_lexer": "ipython3",
   "version": "3.8.5"
  }
 },
 "nbformat": 4,
 "nbformat_minor": 4
}
