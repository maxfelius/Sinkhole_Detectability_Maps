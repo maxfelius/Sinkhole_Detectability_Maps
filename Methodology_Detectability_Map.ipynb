{
 "cells": [
  {
   "cell_type": "markdown",
   "metadata": {},
   "source": [
    "# Detectability Map\n",
    "@author: Max Felius\n",
    "\n",
    "Detectability map using a 1x1 km subset of track 88 Sentinel-1 data.\n",
    "\n",
    "The goal is to test the subset on every position to determine if it is possible to detect a particular sinkhole (retrieved from digitised sinkhole analysis) if it would happen at that particular position. "
   ]
  },
  {
   "cell_type": "code",
   "execution_count": 1,
   "metadata": {},
   "outputs": [],
   "source": [
    "#imports\n",
    "import numpy as np\n",
    "import pandas as pd\n",
    "import sys, os, time\n",
    "import matplotlib.pyplot as plt\n",
    "from tqdm import tqdm\n",
    "\n",
    "#import self created package\n",
    "# from Detectability_Map.Detectability_Map_Creator import detectability_map\n",
    "from Detectability_Map.read_sentinel1_csv_data import dataset\n",
    "from Detectability_Map.rijksdriehoek import Rijksdriehoek"
   ]
  },
  {
   "cell_type": "code",
   "execution_count": 2,
   "metadata": {},
   "outputs": [
    {
     "name": "stdout",
     "output_type": "stream",
     "text": [
      "Starting to read the data: Subsets/subset_r400_lon6.06_lat50.87.csv.\n",
      "Finished Loading the dataset in 0.08818364143371582 seconds...\n"
     ]
    }
   ],
   "source": [
    "folder = 'Subsets'\n",
    "filename = 'subset_r400_lon6.06_lat50.87.csv'\n",
    "dataset_filename = os.path.join(folder,filename)\n",
    "\n",
    "dataset_obj = dataset(dataset_filename)\n",
    "\n",
    "extend_rd = dataset_obj.extend_rd #[min x, max x, min y, max y]\n",
    "extend_wgs = dataset_obj.extend_wgs #[min lon, max lon, min lat, max lat]"
   ]
  },
  {
   "cell_type": "code",
   "execution_count": 3,
   "metadata": {},
   "outputs": [],
   "source": [
    "#defining the different influence functions\n",
    "def zg(R,r,itype='gaus'):\n",
    "    # Automatically uses the Gaussian Influence Function unless specified differently\n",
    "    if itype == 'gaus':\n",
    "        return -zg_gaus(R,r) \n",
    "    elif itype == 'bals':\n",
    "        return -zg_bals(R,r)    \n",
    "    elif itype == 'beyer':\n",
    "        return -zg_beyer(R,r)    \n",
    "    else:\n",
    "        print(f'Unknown itype: {itype}.')\n",
    "\n",
    "def zg_gaus(R,r):\n",
    "    return (1/(R*R))*np.exp(-np.pi*(r**2/R**2))\n",
    "\n",
    "def zg_bals(H,r):\n",
    "    r = np.sqrt((x-x0)**2 + (y-y0)**2)\n",
    "    zone = np.arctan(r/H)\n",
    "    return np.cos(zone)**2\n",
    "\n",
    "def zg_beyer(R,r):\n",
    "#     r = np.sqrt((x-x0)**2 + (y-y0)**2)\\n\",\n",
    "    kz = ((3)/(np.pi*R**2))*(1-(r/R)**2)**2\n",
    "    kz[r>R] = 0\n",
    "    return kz"
   ]
  },
  {
   "cell_type": "markdown",
   "metadata": {},
   "source": [
    "## Sinkhole Parameters\n",
    "\n",
    "What would happen if a sinkhole, observered in the paper of Wink 2019, would happen in Limburg? Would we be able to detect it?\n",
    "\n",
    "Wink 2019: <br>\n",
    "Kim, J. W., Lu, Z., & Kaufmann, J. (2019). Evolution of sinkholes over Wink, Texas, observed by high-resolution optical and SAR imagery. Remote Sensing of Environment, 222, 119-132.\n",
    "\n",
    "<strong>Parameters used</strong><br>\n",
    "$v = 44.77 m^3/day$ <br>\n",
    "$t = [44, 55, 66, 77, 88, 99, 110, 121, 132, 165]$ days\n",
    "\n",
    "<strong>Methodology Checking Solution</strong>\n",
    "- $v$ and $t$ are predefined using parameters found in the paper of Wink 2019.\n",
    "- Since the model is nonlinear, the linearized design matix ($J$) is used.\n",
    "- The design matrix ($J$) is set up to estimate $v$ and $R$.\n",
    "- The size of the design matrix ($J$) is ($nm\\thinspace x\\thinspace 2$) where $n$ is the length of $\\vec{r}$ and $m$ the length of $\\vec{t}$.\n",
    "- When the conditional number of the design matrix ($J$) is lower than $\\frac{1}{\\epsilon_{system}}$, a 1 is returned meaning that a solution is possible."
   ]
  },
  {
   "cell_type": "code",
   "execution_count": 4,
   "metadata": {},
   "outputs": [],
   "source": [
    "def check_subset(subset,R,x0,y0):\n",
    "    '''\n",
    "    Checks if a subset has a solvable design matrix. For now it only uses the Gaussian Influence Function.\n",
    "\n",
    "    Input:\n",
    "    :type subset: pandas dataframe\n",
    "    :type R: int\n",
    "    :type x0: int\n",
    "    :type y0: int\n",
    "\n",
    "    Output\n",
    "    :rtype: int, float\n",
    "    '''\n",
    "    #sinkhole parameters for Wink 2019\n",
    "    v = 44.77\n",
    "    t = np.array([44, 55, 66, 77, 88, 99, 110, 121, 132, 165])\n",
    "   \n",
    "    itype = 'gaus'\n",
    "    \n",
    "    # print('Computing the radius.')\n",
    "    r = np.sqrt((subset['pnt_rdx'].values-x0)**2 + (subset['pnt_rdy'].values-y0)**2)\n",
    "\n",
    "    if len(r)==0:\n",
    "        return 0, 0.0\n",
    "    else:\n",
    "        #defining the jacobian matrix for nonlinear least squares\n",
    "        a = zg(R,r,itype).reshape((len(r),1))\n",
    "        b = t.reshape((len(t),1))\n",
    "        \n",
    "        A1 = a @ b.T\n",
    "        A1 = A1.ravel()\n",
    "        \n",
    "        c = (((2*R**2 + 2*np.pi*r**2)/(R**3))*(v)*zg(R,r,itype)).reshape((len(r),1))\n",
    "        \n",
    "        A2 = c @ b.T\n",
    "        A2 = A2.ravel()\n",
    "        \n",
    "        J = np.array([A1,A2]).T\n",
    "        cond_number = np.linalg.cond(J)\n",
    "\n",
    "    if cond_number > 1/sys.float_info.epsilon:\n",
    "        return 0, cond_number\n",
    "    else:\n",
    "        return 1, cond_number"
   ]
  },
  {
   "cell_type": "code",
   "execution_count": 9,
   "metadata": {},
   "outputs": [],
   "source": [
    "def make_map(R_list,x_eval,y_eval,dataset_obj):\n",
    "    '''\n",
    "    Method to create the detectability map. \n",
    "    \n",
    "    Input are the evaluation coordinates and the list of the radius of infuence.\n",
    "\n",
    "    Input:_pos\n",
    "    :type R_list: list[int]\n",
    "    :type x_eval: list[float], rd\n",
    "    :type y_eval: list[float], rd\n",
    "    :type dataset_obj: object(dataset)\n",
    "\n",
    "    Output:\n",
    "    :rtype pandas.DataFrame\n",
    "    '''\n",
    "    header_outputframe = ['pnt_lon','pnt_lat','pnt_rdx','pnt_rdy','geometry (wgs)','geometry (rd)','sum']\n",
    "    \n",
    "    #implement R columns in the header\n",
    "    for item in R_list:\n",
    "        header_outputframe.append(f'R_{item}')\n",
    "        header_outputframe.append(f'Cond_R_{item}')\n",
    "    \n",
    "    # building the numbers for in the dataframe\n",
    "    lon_eval_wgs, lat_eval_wgs = Rijksdriehoek(x_eval, y_eval).to_wgs()\n",
    "    fill_data = np.zeros((len(lon_eval_wgs),len(header_outputframe)-4))\n",
    "    coordinate_data = np.array([lon_eval_wgs,lat_eval_wgs,x_eval,y_eval]).T\n",
    "    coordinate_data = np.concatenate((coordinate_data,fill_data),axis=1)\n",
    "    \n",
    "    # Building dataframe\n",
    "    df = pd.DataFrame(coordinate_data,columns=header_outputframe)\n",
    "    \n",
    "    for idx,R in enumerate(R_list):\n",
    "#         print(f'Set {idx+1}/{len(R_list)}.')\n",
    "        for i in tqdm(range(len(x_eval)),desc=f'Making the Map ({idx+1}/{len(R_list)})'):\n",
    "            #select center position\n",
    "            x_pos = x_eval[i]\n",
    "            y_pos = y_eval[i]\n",
    "\n",
    "            #create the subset\n",
    "            subset = dataset_obj.create_spatial_subset([x_pos,y_pos],R)\n",
    "\n",
    "            result, cond = check_subset(subset,R,x_pos,y_pos)\n",
    "\n",
    "            #filling the dataframe\n",
    "            #create a polygon of the entry\n",
    "            lbrd = Rijksdriehoek(x_pos-min(R_list)/2,y_pos-min(R_list)/2)\n",
    "            rbrd = Rijksdriehoek(x_pos+min(R_list)/2,y_pos-min(R_list)/2)\n",
    "            rtrd = Rijksdriehoek(x_pos+min(R_list)/2,y_pos+min(R_list)/2)\n",
    "            ltrd = Rijksdriehoek(x_pos-min(R_list)/2,y_pos+min(R_list)/2)\n",
    "\n",
    "            leftbot = lbrd.to_wgs()\n",
    "            rightbot = rbrd.to_wgs()\n",
    "            righttop = rtrd.to_wgs()\n",
    "            lefttop = ltrd.to_wgs()\n",
    "\n",
    "            df['geometry (wgs)'].iloc[i] = f'POLYGON (({leftbot[1]} {leftbot[0]},{rightbot[1]} {rightbot[0]},{righttop[1]} {righttop[0]},{lefttop[1]} {lefttop[0]}))'\n",
    "            df['geometry (rd)'].iloc[i] = f'POLYGON (({lbrd.rd_x} {lbrd.rd_y},{rbrd.rd_x} {rbrd.rd_y},{rtrd.rd_x} {rtrd.rd_y},{ltrd.rd_x} {ltrd.rd_y}))'\n",
    "\n",
    "            df[f'R_{R}'].iloc[i] = result\n",
    "            df[f'Cond_R_{R}'].iloc[i] = cond\n",
    "            \n",
    "            if result == 1:\n",
    "                df['sum'].iloc[i] += 1\n",
    "        \n",
    "    return df"
   ]
  },
  {
   "cell_type": "markdown",
   "metadata": {},
   "source": [
    "## Defining the Settings and Executing the map making"
   ]
  },
  {
   "cell_type": "code",
   "execution_count": 11,
   "metadata": {},
   "outputs": [
    {
     "name": "stderr",
     "output_type": "stream",
     "text": [
      "Making the Map (1/1)...:   0%|          | 0/828 [00:00<?, ?it/s]/Library/Frameworks/Python.framework/Versions/3.8/lib/python3.8/site-packages/pandas/core/indexing.py:670: SettingWithCopyWarning: \n",
      "A value is trying to be set on a copy of a slice from a DataFrame\n",
      "\n",
      "See the caveats in the documentation: https://pandas.pydata.org/pandas-docs/stable/user_guide/indexing.html#returning-a-view-versus-a-copy\n",
      "  iloc._setitem_with_indexer(indexer, value)\n",
      "Making the Map (1/1)...: 100%|██████████| 828/828 [00:04<00:00, 185.13it/s]\n"
     ]
    }
   ],
   "source": [
    "#The R_list vector determines which sinkhole sizes to evaluate. \n",
    "#The resolution of the output map is taken from the lowest value in the R_list vector\n",
    "\n",
    "R_list = [10,20,30,40,50,60,70,80,90,100]\n",
    "\n",
    "coordinates = extend_rd\n",
    "xmin = coordinates[0]\n",
    "xmax = coordinates[1]\n",
    "\n",
    "x_range = np.arange(xmin,xmax,min(R_list)/2)\n",
    "\n",
    "ymin = coordinates[2]\n",
    "ymax = coordinates[3]\n",
    "\n",
    "y_range = np.arange(ymin,ymax,min(R_list)/2)\n",
    "\n",
    "xv,yv = np.meshgrid(x_range,y_range)\n",
    "\n",
    "x_eval = xv.ravel()\n",
    "y_eval = yv.ravel()\n",
    "\n",
    "df = make_map(R_list,x_eval,y_eval,dataset_obj)"
   ]
  },
  {
   "cell_type": "markdown",
   "metadata": {},
   "source": [
    "## Save the results"
   ]
  },
  {
   "cell_type": "code",
   "execution_count": 7,
   "metadata": {},
   "outputs": [],
   "source": [
    "df.to_csv('test2.csv')"
   ]
  }
 ],
 "metadata": {
  "kernelspec": {
   "display_name": "Python 3",
   "language": "python",
   "name": "python3"
  },
  "language_info": {
   "codemirror_mode": {
    "name": "ipython",
    "version": 3
   },
   "file_extension": ".py",
   "mimetype": "text/x-python",
   "name": "python",
   "nbconvert_exporter": "python",
   "pygments_lexer": "ipython3",
   "version": "3.8.5"
  }
 },
 "nbformat": 4,
 "nbformat_minor": 4
}
